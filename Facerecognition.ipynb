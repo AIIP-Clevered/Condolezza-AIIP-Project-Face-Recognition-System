{
  "nbformat": 4,
  "nbformat_minor": 0,
  "metadata": {
    "colab": {
      "name": "Facerecognition.ipynb",
      "provenance": [],
      "collapsed_sections": []
    },
    "kernelspec": {
      "name": "python3",
      "display_name": "Python 3"
    },
    "language_info": {
      "name": "python"
    },
    "accelerator": "GPU"
  },
  "cells": [
    {
      "cell_type": "code",
      "execution_count": 8,
      "metadata": {
        "colab": {
          "base_uri": "https://localhost:8080/"
        },
        "id": "vUM6Ucx6WJ2c",
        "outputId": "8b8c2f63-a2e2-4290-a17f-10d314374788"
      },
      "outputs": [
        {
          "output_type": "stream",
          "name": "stdout",
          "text": [
            "Requirement already satisfied: face_recognition in /usr/local/lib/python3.7/dist-packages (1.3.0)\n",
            "Requirement already satisfied: Click>=6.0 in /usr/local/lib/python3.7/dist-packages (from face_recognition) (7.1.2)\n",
            "Requirement already satisfied: numpy in /usr/local/lib/python3.7/dist-packages (from face_recognition) (1.19.5)\n",
            "Requirement already satisfied: dlib>=19.7 in /usr/local/lib/python3.7/dist-packages (from face_recognition) (19.18.0)\n",
            "Requirement already satisfied: face-recognition-models>=0.3.0 in /usr/local/lib/python3.7/dist-packages (from face_recognition) (0.3.0)\n",
            "Requirement already satisfied: Pillow in /usr/local/lib/python3.7/dist-packages (from face_recognition) (7.1.2)\n"
          ]
        }
      ],
      "source": [
        "!pip install face_recognition\n",
        "\n"
      ]
    },
    {
      "cell_type": "code",
      "source": [
        "import face_recognition\n",
        "import numpy as np\n",
        "from PIL import Image, ImageDraw\n",
        "from IPython.display import display\n",
        "from google.colab.patches import cv2_imshow\n",
        "import cv2\n",
        "\n",
        "face_1 = face_recognition.load_image_file(\"kiana madeira.jpg\")\n",
        "face_1_encoding = face_recognition.face_encodings(face_1)[0]\n",
        "\n",
        "face_2 = face_recognition.load_image_file(\"maya hawke.jpg\")\n",
        "face_2_encoding = face_recognition.face_encodings(face_2)[0]\n",
        "\n",
        "face_3 = face_recognition.load_image_file(\"sadie sink.jpg\")\n",
        "face_3_encoding = face_recognition.face_encodings(face_3)[0]\n",
        "\n",
        "known_face_encodings = [\n",
        "    face_1_encoding,\n",
        "    face_2_encoding,\n",
        "    face_3_encoding\n",
        "]\n",
        "known_face_names = [\n",
        "    \"kiana madeira\",\n",
        "    \"maya hawke\",\n",
        "    \"sadie sink\"\n",
        "]\n",
        "print(\"Done learning and creating profiles\")\n"
      ],
      "metadata": {
        "colab": {
          "base_uri": "https://localhost:8080/"
        },
        "id": "Nmz7_UySXdVH",
        "outputId": "d96f9968-125b-4461-8f1e-b3118cdc62ad"
      },
      "execution_count": 9,
      "outputs": [
        {
          "output_type": "stream",
          "name": "stdout",
          "text": [
            "Done learning and creating profiles\n"
          ]
        }
      ]
    },
    {
      "cell_type": "code",
      "source": [
        "pip install flask_ngrok\n"
      ],
      "metadata": {
        "colab": {
          "base_uri": "https://localhost:8080/"
        },
        "id": "MPB5JMWjZIpY",
        "outputId": "e37f6308-d2ba-48a9-ac58-178c9de9ae9c"
      },
      "execution_count": 10,
      "outputs": [
        {
          "output_type": "stream",
          "name": "stdout",
          "text": [
            "Requirement already satisfied: flask_ngrok in /usr/local/lib/python3.7/dist-packages (0.0.25)\n",
            "Requirement already satisfied: Flask>=0.8 in /usr/local/lib/python3.7/dist-packages (from flask_ngrok) (1.1.4)\n",
            "Requirement already satisfied: requests in /usr/local/lib/python3.7/dist-packages (from flask_ngrok) (2.23.0)\n",
            "Requirement already satisfied: itsdangerous<2.0,>=0.24 in /usr/local/lib/python3.7/dist-packages (from Flask>=0.8->flask_ngrok) (1.1.0)\n",
            "Requirement already satisfied: Jinja2<3.0,>=2.10.1 in /usr/local/lib/python3.7/dist-packages (from Flask>=0.8->flask_ngrok) (2.11.3)\n",
            "Requirement already satisfied: click<8.0,>=5.1 in /usr/local/lib/python3.7/dist-packages (from Flask>=0.8->flask_ngrok) (7.1.2)\n",
            "Requirement already satisfied: Werkzeug<2.0,>=0.15 in /usr/local/lib/python3.7/dist-packages (from Flask>=0.8->flask_ngrok) (1.0.1)\n",
            "Requirement already satisfied: MarkupSafe>=0.23 in /usr/local/lib/python3.7/dist-packages (from Jinja2<3.0,>=2.10.1->Flask>=0.8->flask_ngrok) (2.0.1)\n",
            "Requirement already satisfied: chardet<4,>=3.0.2 in /usr/local/lib/python3.7/dist-packages (from requests->flask_ngrok) (3.0.4)\n",
            "Requirement already satisfied: urllib3!=1.25.0,!=1.25.1,<1.26,>=1.21.1 in /usr/local/lib/python3.7/dist-packages (from requests->flask_ngrok) (1.24.3)\n",
            "Requirement already satisfied: idna<3,>=2.5 in /usr/local/lib/python3.7/dist-packages (from requests->flask_ngrok) (2.10)\n",
            "Requirement already satisfied: certifi>=2017.4.17 in /usr/local/lib/python3.7/dist-packages (from requests->flask_ngrok) (2021.10.8)\n"
          ]
        }
      ]
    },
    {
      "cell_type": "code",
      "source": [
        "pip install opencv-python"
      ],
      "metadata": {
        "colab": {
          "base_uri": "https://localhost:8080/"
        },
        "id": "RuGUOHBNZoC5",
        "outputId": "78e8a15e-6613-40aa-b1dc-614590d4f0ab"
      },
      "execution_count": 11,
      "outputs": [
        {
          "output_type": "stream",
          "name": "stdout",
          "text": [
            "Requirement already satisfied: opencv-python in /usr/local/lib/python3.7/dist-packages (4.1.2.30)\n",
            "Requirement already satisfied: numpy>=1.14.5 in /usr/local/lib/python3.7/dist-packages (from opencv-python) (1.19.5)\n"
          ]
        }
      ]
    },
    {
      "cell_type": "code",
      "source": [
        "import numpy as np\n",
        "from flask import Flask, render_template, request\n",
        "from flask_ngrok import run_with_ngrok\n",
        "import cv2\n",
        "\n",
        "from flask import Flask, render_template, request\n",
        "from flask_ngrok import run_with_ngrok\n",
        "\n",
        "app = Flask(__name__)\n",
        "run_with_ngrok(app)\n",
        "\n",
        "def predict_label(img_path):\n",
        "  unknown_image = cv2.imread(img_path)\n",
        "  unknown_image_to_draw = cv2.imread(img_path)\n",
        "  face_locations = face_recognition.face_locations(unknown_image)\n",
        "  face_encodings = face_recognition.face_encodings(unknown_image, face_locations)\n",
        "  for (top, right, bottom, left), face_encoding in zip(face_locations, face_encodings):\n",
        "    matches = face_recognition.compare_faces(known_face_encodings, face_encoding)\n",
        "    name = \"Unknown\"\n",
        "    face_distances = face_recognition.face_distance(known_face_encodings, face_encoding)\n",
        "    best_match_index = np.argmin(face_distances)\n",
        "    if matches[best_match_index]:\n",
        "        name = known_face_names[best_match_index]\n",
        "        p=name\n",
        "    else:\n",
        "      return 'Face Not Found'\n",
        "  return p\n",
        "\n",
        "@app.route(\"/\", methods=['GET', 'POST'])\n",
        "def main():\n",
        "  #return 'Hello'\n",
        "\treturn render_template(\"index_first.html\")\n",
        "\n",
        "@app.route(\"/submit\", methods = ['GET', 'POST'])\n",
        "def get_output():\n",
        "  if request.method == 'POST':\n",
        "    img = request.files['my_image']\n",
        "    img_path = \"static/\" + img.filename\t\n",
        "    img.save(img_path)\n",
        "    print(img_path)\n",
        "    p = predict_label(img_path)\n",
        "    return render_template(\"index_first.html\", prediction = p, img_path = img_path)\n",
        "\n",
        "app.run()\n"
      ],
      "metadata": {
        "colab": {
          "base_uri": "https://localhost:8080/"
        },
        "id": "s70pPUVGZtak",
        "outputId": "ead86d82-2fb8-4159-d761-d182b3a86b3b"
      },
      "execution_count": null,
      "outputs": [
        {
          "output_type": "stream",
          "name": "stdout",
          "text": [
            " * Serving Flask app \"__main__\" (lazy loading)\n",
            " * Environment: production\n",
            "\u001b[31m   WARNING: This is a development server. Do not use it in a production deployment.\u001b[0m\n",
            "\u001b[2m   Use a production WSGI server instead.\u001b[0m\n",
            " * Debug mode: off\n"
          ]
        },
        {
          "output_type": "stream",
          "name": "stderr",
          "text": [
            " * Running on http://127.0.0.1:5000/ (Press CTRL+C to quit)\n"
          ]
        },
        {
          "output_type": "stream",
          "name": "stdout",
          "text": [
            " * Running on http://272a-34-79-160-107.ngrok.io\n",
            " * Traffic stats available on http://127.0.0.1:4040\n"
          ]
        },
        {
          "output_type": "stream",
          "name": "stderr",
          "text": [
            "127.0.0.1 - - [12/Dec/2021 11:59:23] \"\u001b[37mGET / HTTP/1.1\u001b[0m\" 200 -\n",
            "127.0.0.1 - - [12/Dec/2021 11:59:26] \"\u001b[37mGET / HTTP/1.1\u001b[0m\" 200 -\n",
            "127.0.0.1 - - [12/Dec/2021 11:59:28] \"\u001b[37mGET / HTTP/1.1\u001b[0m\" 200 -\n",
            "127.0.0.1 - - [12/Dec/2021 11:59:30] \"\u001b[33mGET /favicon.ico HTTP/1.1\u001b[0m\" 404 -\n",
            "127.0.0.1 - - [12/Dec/2021 11:59:35] \"\u001b[37mPOST /submit HTTP/1.1\u001b[0m\" 200 -\n"
          ]
        },
        {
          "output_type": "stream",
          "name": "stdout",
          "text": [
            "static/maya hawke.jpg\n"
          ]
        },
        {
          "output_type": "stream",
          "name": "stderr",
          "text": [
            "127.0.0.1 - - [12/Dec/2021 11:59:36] \"\u001b[37mGET /static/maya%20hawke.jpg HTTP/1.1\u001b[0m\" 200 -\n",
            "[2021-12-12 11:59:36,690] ERROR in app: Exception on /submit [GET]\n",
            "Traceback (most recent call last):\n",
            "  File \"/usr/local/lib/python3.7/dist-packages/flask/app.py\", line 2447, in wsgi_app\n",
            "    response = self.full_dispatch_request()\n",
            "  File \"/usr/local/lib/python3.7/dist-packages/flask/app.py\", line 1953, in full_dispatch_request\n",
            "    return self.finalize_request(rv)\n",
            "  File \"/usr/local/lib/python3.7/dist-packages/flask/app.py\", line 1968, in finalize_request\n",
            "    response = self.make_response(rv)\n",
            "  File \"/usr/local/lib/python3.7/dist-packages/flask/app.py\", line 2098, in make_response\n",
            "    \"The view function did not return a valid response. The\"\n",
            "TypeError: The view function did not return a valid response. The function either returned None or ended without a return statement.\n",
            "127.0.0.1 - - [12/Dec/2021 11:59:36] \"\u001b[35m\u001b[1mGET /submit HTTP/1.1\u001b[0m\" 500 -\n",
            "127.0.0.1 - - [12/Dec/2021 14:43:49] \"\u001b[37mPOST /submit HTTP/1.1\u001b[0m\" 200 -\n"
          ]
        },
        {
          "output_type": "stream",
          "name": "stdout",
          "text": [
            "static/maya hawke.jpg\n"
          ]
        },
        {
          "output_type": "stream",
          "name": "stderr",
          "text": [
            "127.0.0.1 - - [12/Dec/2021 14:43:57] \"\u001b[37mGET / HTTP/1.1\u001b[0m\" 200 -\n",
            "127.0.0.1 - - [12/Dec/2021 14:44:12] \"\u001b[37mGET / HTTP/1.1\u001b[0m\" 200 -\n",
            "127.0.0.1 - - [12/Dec/2021 14:44:33] \"\u001b[37mGET / HTTP/1.1\u001b[0m\" 200 -\n",
            "127.0.0.1 - - [12/Dec/2021 14:44:47] \"\u001b[37mGET / HTTP/1.1\u001b[0m\" 200 -\n"
          ]
        }
      ]
    },
    {
      "cell_type": "code",
      "source": [
        "pip install pyngrok"
      ],
      "metadata": {
        "colab": {
          "base_uri": "https://localhost:8080/"
        },
        "id": "CoyneL_qe9Su",
        "outputId": "b89e1289-442f-4cf8-9e5a-c01b1bd2fe88"
      },
      "execution_count": 13,
      "outputs": [
        {
          "output_type": "stream",
          "name": "stdout",
          "text": [
            "Collecting pyngrok\n",
            "  Downloading pyngrok-5.1.0.tar.gz (745 kB)\n",
            "\u001b[?25l\r\u001b[K     |▍                               | 10 kB 21.0 MB/s eta 0:00:01\r\u001b[K     |▉                               | 20 kB 28.0 MB/s eta 0:00:01\r\u001b[K     |█▎                              | 30 kB 21.9 MB/s eta 0:00:01\r\u001b[K     |█▊                              | 40 kB 18.1 MB/s eta 0:00:01\r\u001b[K     |██▏                             | 51 kB 14.6 MB/s eta 0:00:01\r\u001b[K     |██▋                             | 61 kB 13.2 MB/s eta 0:00:01\r\u001b[K     |███                             | 71 kB 12.2 MB/s eta 0:00:01\r\u001b[K     |███▌                            | 81 kB 13.5 MB/s eta 0:00:01\r\u001b[K     |████                            | 92 kB 14.2 MB/s eta 0:00:01\r\u001b[K     |████▍                           | 102 kB 11.3 MB/s eta 0:00:01\r\u001b[K     |████▉                           | 112 kB 11.3 MB/s eta 0:00:01\r\u001b[K     |█████▎                          | 122 kB 11.3 MB/s eta 0:00:01\r\u001b[K     |█████▊                          | 133 kB 11.3 MB/s eta 0:00:01\r\u001b[K     |██████▏                         | 143 kB 11.3 MB/s eta 0:00:01\r\u001b[K     |██████▋                         | 153 kB 11.3 MB/s eta 0:00:01\r\u001b[K     |███████                         | 163 kB 11.3 MB/s eta 0:00:01\r\u001b[K     |███████▌                        | 174 kB 11.3 MB/s eta 0:00:01\r\u001b[K     |████████                        | 184 kB 11.3 MB/s eta 0:00:01\r\u001b[K     |████████▍                       | 194 kB 11.3 MB/s eta 0:00:01\r\u001b[K     |████████▉                       | 204 kB 11.3 MB/s eta 0:00:01\r\u001b[K     |█████████▎                      | 215 kB 11.3 MB/s eta 0:00:01\r\u001b[K     |█████████▊                      | 225 kB 11.3 MB/s eta 0:00:01\r\u001b[K     |██████████▏                     | 235 kB 11.3 MB/s eta 0:00:01\r\u001b[K     |██████████▌                     | 245 kB 11.3 MB/s eta 0:00:01\r\u001b[K     |███████████                     | 256 kB 11.3 MB/s eta 0:00:01\r\u001b[K     |███████████▍                    | 266 kB 11.3 MB/s eta 0:00:01\r\u001b[K     |███████████▉                    | 276 kB 11.3 MB/s eta 0:00:01\r\u001b[K     |████████████▎                   | 286 kB 11.3 MB/s eta 0:00:01\r\u001b[K     |████████████▊                   | 296 kB 11.3 MB/s eta 0:00:01\r\u001b[K     |█████████████▏                  | 307 kB 11.3 MB/s eta 0:00:01\r\u001b[K     |█████████████▋                  | 317 kB 11.3 MB/s eta 0:00:01\r\u001b[K     |██████████████                  | 327 kB 11.3 MB/s eta 0:00:01\r\u001b[K     |██████████████▌                 | 337 kB 11.3 MB/s eta 0:00:01\r\u001b[K     |███████████████                 | 348 kB 11.3 MB/s eta 0:00:01\r\u001b[K     |███████████████▍                | 358 kB 11.3 MB/s eta 0:00:01\r\u001b[K     |███████████████▉                | 368 kB 11.3 MB/s eta 0:00:01\r\u001b[K     |████████████████▎               | 378 kB 11.3 MB/s eta 0:00:01\r\u001b[K     |████████████████▊               | 389 kB 11.3 MB/s eta 0:00:01\r\u001b[K     |█████████████████▏              | 399 kB 11.3 MB/s eta 0:00:01\r\u001b[K     |█████████████████▋              | 409 kB 11.3 MB/s eta 0:00:01\r\u001b[K     |██████████████████              | 419 kB 11.3 MB/s eta 0:00:01\r\u001b[K     |██████████████████▌             | 430 kB 11.3 MB/s eta 0:00:01\r\u001b[K     |███████████████████             | 440 kB 11.3 MB/s eta 0:00:01\r\u001b[K     |███████████████████▍            | 450 kB 11.3 MB/s eta 0:00:01\r\u001b[K     |███████████████████▉            | 460 kB 11.3 MB/s eta 0:00:01\r\u001b[K     |████████████████████▎           | 471 kB 11.3 MB/s eta 0:00:01\r\u001b[K     |████████████████████▋           | 481 kB 11.3 MB/s eta 0:00:01\r\u001b[K     |█████████████████████           | 491 kB 11.3 MB/s eta 0:00:01\r\u001b[K     |█████████████████████▌          | 501 kB 11.3 MB/s eta 0:00:01\r\u001b[K     |██████████████████████          | 512 kB 11.3 MB/s eta 0:00:01\r\u001b[K     |██████████████████████▍         | 522 kB 11.3 MB/s eta 0:00:01\r\u001b[K     |██████████████████████▉         | 532 kB 11.3 MB/s eta 0:00:01\r\u001b[K     |███████████████████████▎        | 542 kB 11.3 MB/s eta 0:00:01\r\u001b[K     |███████████████████████▊        | 552 kB 11.3 MB/s eta 0:00:01\r\u001b[K     |████████████████████████▏       | 563 kB 11.3 MB/s eta 0:00:01\r\u001b[K     |████████████████████████▋       | 573 kB 11.3 MB/s eta 0:00:01\r\u001b[K     |█████████████████████████       | 583 kB 11.3 MB/s eta 0:00:01\r\u001b[K     |█████████████████████████▌      | 593 kB 11.3 MB/s eta 0:00:01\r\u001b[K     |██████████████████████████      | 604 kB 11.3 MB/s eta 0:00:01\r\u001b[K     |██████████████████████████▍     | 614 kB 11.3 MB/s eta 0:00:01\r\u001b[K     |██████████████████████████▉     | 624 kB 11.3 MB/s eta 0:00:01\r\u001b[K     |███████████████████████████▎    | 634 kB 11.3 MB/s eta 0:00:01\r\u001b[K     |███████████████████████████▊    | 645 kB 11.3 MB/s eta 0:00:01\r\u001b[K     |████████████████████████████▏   | 655 kB 11.3 MB/s eta 0:00:01\r\u001b[K     |████████████████████████████▋   | 665 kB 11.3 MB/s eta 0:00:01\r\u001b[K     |█████████████████████████████   | 675 kB 11.3 MB/s eta 0:00:01\r\u001b[K     |█████████████████████████████▌  | 686 kB 11.3 MB/s eta 0:00:01\r\u001b[K     |██████████████████████████████  | 696 kB 11.3 MB/s eta 0:00:01\r\u001b[K     |██████████████████████████████▍ | 706 kB 11.3 MB/s eta 0:00:01\r\u001b[K     |██████████████████████████████▊ | 716 kB 11.3 MB/s eta 0:00:01\r\u001b[K     |███████████████████████████████▏| 727 kB 11.3 MB/s eta 0:00:01\r\u001b[K     |███████████████████████████████▋| 737 kB 11.3 MB/s eta 0:00:01\r\u001b[K     |████████████████████████████████| 745 kB 11.3 MB/s \n",
            "\u001b[?25hRequirement already satisfied: PyYAML in /usr/local/lib/python3.7/dist-packages (from pyngrok) (3.13)\n",
            "Building wheels for collected packages: pyngrok\n",
            "  Building wheel for pyngrok (setup.py) ... \u001b[?25l\u001b[?25hdone\n",
            "  Created wheel for pyngrok: filename=pyngrok-5.1.0-py3-none-any.whl size=19006 sha256=bce181382c0ce52d71ab46ed9f3dc981fb8662c1b4c06aeaf02e4db49b0e75f3\n",
            "  Stored in directory: /root/.cache/pip/wheels/bf/e6/af/ccf6598ecefecd44104069371795cb9b3afbcd16987f6ccfb3\n",
            "Successfully built pyngrok\n",
            "Installing collected packages: pyngrok\n",
            "Successfully installed pyngrok-5.1.0\n"
          ]
        }
      ]
    },
    {
      "cell_type": "code",
      "source": [
        "!ngrok authtoken 22BT829N75NTExO5SnsDwgAEI7v_6bBoXnHXS8xhf8814Agim"
      ],
      "metadata": {
        "colab": {
          "base_uri": "https://localhost:8080/"
        },
        "id": "uMtKCw8CfBW2",
        "outputId": "9d931cba-b157-417a-dab0-585c23da3658"
      },
      "execution_count": 14,
      "outputs": [
        {
          "output_type": "stream",
          "name": "stdout",
          "text": [
            "Authtoken saved to configuration file: /root/.ngrok2/ngrok.yml\n"
          ]
        }
      ]
    }
  ]
}